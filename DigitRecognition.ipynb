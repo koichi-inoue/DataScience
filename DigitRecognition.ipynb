{
  "nbformat": 4,
  "nbformat_minor": 0,
  "metadata": {
    "colab": {
      "provenance": [],
      "authorship_tag": "ABX9TyOSNjn/vsRqyL4dFd3VuuGJ"
    },
    "kernelspec": {
      "name": "python3",
      "display_name": "Python 3"
    },
    "language_info": {
      "name": "python"
    }
  },
  "cells": [
    {
      "cell_type": "markdown",
      "source": [
        "#手書き文字認識\n",
        "### 利用するライブラリ\n",
        "* scikit-learn\n",
        "  * datasets：機械学習サンプルデータ\n",
        "  * train_test_split：学習用データとテストデータの分離\n",
        "  * svm：判別アルゴリズム サポートベクターマシン\n",
        "  * metrics：モデルの評価を行うモジュール\n",
        "* numpy：数値計算\n",
        "* matplotlib.pyplot：画像表示\n",
        "* pillow（PIL）：画像処理\n",
        "* requests, io：画像データの読み込み\n",
        "\n",
        "### 利用するデータ\n",
        "* digits（scikit-learn の datasets に含まれます）\n",
        "  * MNIST（以下がオリジナル）のスモール版  \n",
        "  http://yann.lecun.com/exdb/mnist/  \n",
        "  * データは 0～9の 数字がそれぞれ180個前後、計1797個\n",
        "  * 個々の画像は、サイズ 8×8、明暗 0〜16 のデータ\n",
        "* 判別確認用のサンプル画像\n",
        "  * https://github.com/koichi-inoue/DataScience/blob/main/digit2.png\n",
        "  * https://github.com/koichi-inoue/DataScience/blob/main/digit7.png"
      ],
      "metadata": {
        "id": "oLbA91ah7bV5"
      }
    },
    {
      "cell_type": "markdown",
      "source": [
        "### ライブラリの読み込み"
      ],
      "metadata": {
        "id": "GVsX_s-zEWi8"
      }
    },
    {
      "cell_type": "code",
      "execution_count": 1,
      "metadata": {
        "id": "xLv3Mq2E6Rr4"
      },
      "outputs": [],
      "source": [
        "# 機械学習用ライブラリ\n",
        "from sklearn import datasets\n",
        "from sklearn.model_selection import train_test_split\n",
        "from sklearn import svm\n",
        "from sklearn import metrics\n",
        "\n",
        "# 画像の読み込みと表示確認に利用するライブラリ\n",
        "import requests\n",
        "import io\n",
        "import numpy as np\n",
        "import matplotlib.pyplot as plt\n",
        "from PIL import Image\n"
      ]
    },
    {
      "cell_type": "markdown",
      "source": [
        "### データの読み込み"
      ],
      "metadata": {
        "id": "mXwukvj3EfL6"
      }
    },
    {
      "cell_type": "code",
      "source": [
        "# 手書き数字データの読み込み\n",
        "digits = datasets.load_digits()\n",
        "\n",
        "# 学習データ（ 画像データはベクトルなので慣例にしたがって X は大文字 ）\n",
        "X = digits.data\n",
        "\n",
        "# 教師データ（ 回答は「数値」なので慣例にしたがって y は小文字）\n",
        "y = digits.target"
      ],
      "metadata": {
        "id": "iC4PU1xh-iNL"
      },
      "execution_count": 2,
      "outputs": []
    },
    {
      "cell_type": "code",
      "source": [
        "# 各数字データの平均化した値を画像出力して確認（参考までに｜処理上は不要）\n",
        "output_images = np.zeros((10,8,8))\n",
        "fig = plt.figure(figsize=(10,5))\n",
        "for i in range(10):\n",
        "    output_images[i] = digits.images[y == i].mean(axis=0)\n",
        "    ax = fig.add_subplot(2, 5, i+1)\n",
        "    ax.axis('off')\n",
        "    ax.set_title('Digit.{0} (n={1})'.format(i, len(digits.images[y == i])))\n",
        "    ax.imshow(output_images[i], cmap=plt.cm.gray, interpolation='none')\n",
        "plt.show()"
      ],
      "metadata": {
        "colab": {
          "base_uri": "https://localhost:8080/",
          "height": 291
        },
        "id": "VPJ02EkM8r8X",
        "outputId": "c76f4ee4-2db7-42a4-b1c5-2a4de1dc9503"
      },
      "execution_count": 3,
      "outputs": [
        {
          "output_type": "display_data",
          "data": {
            "text/plain": [
              "<Figure size 720x360 with 10 Axes>"
            ],
            "image/png": "[encoded data removed]"
          },
          "metadata": {
            "needs_background": "light"
          }
        }
      ]
    },
    {
      "cell_type": "markdown",
      "source": [
        "### 学習用データとテストデータの分割"
      ],
      "metadata": {
        "id": "jRIMZXIDFa9K"
      }
    },
    {
      "cell_type": "code",
      "source": [
        "# データを学習用とテスト用に分割する\n",
        "X_train, X_test, y_train, y_test = train_test_split( X, y, test_size = 0.2 )\n",
        " "
      ],
      "metadata": {
        "id": "KkboN42M9MpX"
      },
      "execution_count": 4,
      "outputs": []
    },
    {
      "cell_type": "markdown",
      "source": [
        "### 判別学習"
      ],
      "metadata": {
        "id": "h7M5LnwiFssR"
      }
    },
    {
      "cell_type": "code",
      "source": [
        "# 判別アルゴリズムに SVM を使用\n",
        "clf = svm.SVC( C=1.0, kernel='linear' )\n",
        "\n",
        "# 学習\n",
        "clf.fit( X_train, y_train )"
      ],
      "metadata": {
        "id": "4LqOvgR6-En0",
        "colab": {
          "base_uri": "https://localhost:8080/"
        },
        "outputId": "7ac01d67-6864-4f48-bd8c-55e7189c1fcf"
      },
      "execution_count": 5,
      "outputs": [
        {
          "output_type": "execute_result",
          "data": {
            "text/plain": [
              "SVC(kernel='linear')"
            ]
          },
          "metadata": {},
          "execution_count": 5
        }
      ]
    },
    {
      "cell_type": "markdown",
      "source": [
        "* SVM(サポートベクターマシン)とは、教師あり学習のクラス分類と、回帰のできる機械学習アルゴリズムです。"
      ],
      "metadata": {
        "id": "4EOk0PuG_eSq"
      }
    },
    {
      "cell_type": "markdown",
      "source": [
        "### 予測"
      ],
      "metadata": {
        "id": "QblKG3RIGA1Z"
      }
    },
    {
      "cell_type": "code",
      "source": [
        "# 予測（Predicted）\n",
        "y_pred = clf.predict( X_test )\n",
        "\n",
        "# 正解率 (Accuracy)\n",
        "metrics.accuracy_score(y_pred, y_test)"
      ],
      "metadata": {
        "colab": {
          "base_uri": "https://localhost:8080/"
        },
        "id": "L_zH8kAvBMJw",
        "outputId": "dd690d85-798c-42fc-a2ee-5b0a07a27196"
      },
      "execution_count": 6,
      "outputs": [
        {
          "output_type": "execute_result",
          "data": {
            "text/plain": [
              "0.9805555555555555"
            ]
          },
          "metadata": {},
          "execution_count": 6
        }
      ]
    },
    {
      "cell_type": "markdown",
      "source": [
        "* テストデータでは、98% の正解率になっています。"
      ],
      "metadata": {
        "id": "cYok2Iw0ISOG"
      }
    },
    {
      "cell_type": "markdown",
      "source": [
        "### 混同行列で確認"
      ],
      "metadata": {
        "id": "3rxslGELGJnh"
      }
    },
    {
      "cell_type": "markdown",
      "source": [],
      "metadata": {
        "id": "r1Ua88rWJQSt"
      }
    },
    {
      "cell_type": "code",
      "source": [
        "# predicted（X_test の予測） y_testでクロスをとる。\n",
        "metrics.confusion_matrix( y_pred, y_test )"
      ],
      "metadata": {
        "colab": {
          "base_uri": "https://localhost:8080/"
        },
        "id": "KkeDO06SGNnh",
        "outputId": "26f175a3-d395-4ab4-98e5-a1417f237679"
      },
      "execution_count": 7,
      "outputs": [
        {
          "output_type": "execute_result",
          "data": {
            "text/plain": [
              "array([[33,  0,  0,  0,  0,  0,  0,  0,  0,  0],\n",
              "       [ 0, 36,  0,  0,  0,  0,  0,  0,  2,  0],\n",
              "       [ 0,  0, 35,  0,  0,  0,  0,  0,  0,  0],\n",
              "       [ 0,  0,  0, 34,  0,  0,  0,  0,  0,  2],\n",
              "       [ 0,  0,  0,  0, 41,  0,  0,  0,  0,  1],\n",
              "       [ 0,  0,  0,  0,  0, 32,  0,  0,  0,  1],\n",
              "       [ 0,  0,  0,  0,  0,  0, 26,  0,  0,  0],\n",
              "       [ 0,  0,  0,  0,  0,  0,  0, 43,  0,  0],\n",
              "       [ 0,  0,  0,  0,  0,  0,  1,  0, 28,  0],\n",
              "       [ 0,  0,  0,  0,  0,  0,  0,  0,  0, 45]])"
            ]
          },
          "metadata": {},
          "execution_count": 7
        }
      ]
    },
    {
      "cell_type": "markdown",
      "source": [
        "* 対角線上にあるものは、正しく予測されたデータの数で、対角線から外れたものは、予測が間違えていることを意味します。"
      ],
      "metadata": {
        "id": "l8RDl4D3GWX5"
      }
    },
    {
      "cell_type": "markdown",
      "source": [
        "## 自作画像で検証"
      ],
      "metadata": {
        "id": "yge-Vi0pQcHE"
      }
    },
    {
      "cell_type": "markdown",
      "source": [
        "### サンプル画像の読み込み"
      ],
      "metadata": {
        "id": "dvxMPh_yVqI7"
      }
    },
    {
      "cell_type": "code",
      "source": [
        "# サンプル画像の読み込み\n",
        "url = requests.get('https://raw.githubusercontent.com/koichi-inoue/DataScience2022/main/digit2.png')\n",
        "\n",
        "# 画像を読み込んで 8bit(256階調) gray に変換\n",
        "my_image = Image.open(io.BytesIO(url.content)).convert('L')\n",
        "plt.imshow(my_image, cmap=plt.cm.gray)\n",
        "plt.show()"
      ],
      "metadata": {
        "colab": {
          "base_uri": "https://localhost:8080/",
          "height": 269
        },
        "id": "p9Fzjgd3Qfyc",
        "outputId": "41a249c1-beb3-4e30-fd5e-edb0f815d4e3"
      },
      "execution_count": 8,
      "outputs": [
        {
          "output_type": "display_data",
          "data": {
            "text/plain": [
              "<Figure size 432x288 with 1 Axes>"
            ],
            "image/png": "[encoded data removed]"
          },
          "metadata": {
            "needs_background": "light"
          }
        }
      ]
    },
    {
      "cell_type": "markdown",
      "source": [
        "### 画像データをモデルの形式に合わせる"
      ],
      "metadata": {
        "id": "gJpj1AvOWwJi"
      }
    },
    {
      "cell_type": "code",
      "source": [
        "# 8×8にリサイズ\n",
        "my_image = my_image.resize((8, 8), Image.LANCZOS) \n",
        "# ndarray型に変換\n",
        "my_image = np.array( my_image, dtype=float )  \n",
        "# レベルを 0-16にするとともに階調を反転\n",
        "my_image = 16 - np.floor(17 * my_image / 256) \n",
        "\n",
        "# 画像出力（digits形式に変換後）\n",
        "plt.imshow(my_image,cmap=plt.cm.gray, interpolation='none')\n",
        "plt.show()\n"
      ],
      "metadata": {
        "colab": {
          "base_uri": "https://localhost:8080/",
          "height": 265
        },
        "id": "Mhx_NBXzQmVb",
        "outputId": "778a4965-ae50-4832-e48b-c267ec0dc9eb"
      },
      "execution_count": 9,
      "outputs": [
        {
          "output_type": "display_data",
          "data": {
            "text/plain": [
              "<Figure size 432x288 with 1 Axes>"
            ],
            "image/png": "[encoded data removed]"
          },
          "metadata": {
            "needs_background": "light"
          }
        }
      ]
    },
    {
      "cell_type": "markdown",
      "source": [
        "### 予測（画像認識）"
      ],
      "metadata": {
        "id": "kPGvo-lJXO4s"
      }
    },
    {
      "cell_type": "code",
      "source": [
        "# 二次元を一次元に変換\n",
        "my_image = my_image.reshape((-1,64)) \n",
        "# 予測判定\n",
        "res = clf.predict( my_image )\n",
        "res[0]"
      ],
      "metadata": {
        "colab": {
          "base_uri": "https://localhost:8080/"
        },
        "id": "HFs1a1h1SXRm",
        "outputId": "c63b67e5-66cc-4838-c232-8e0f8553a995"
      },
      "execution_count": 10,
      "outputs": [
        {
          "output_type": "execute_result",
          "data": {
            "text/plain": [
              "2"
            ]
          },
          "metadata": {},
          "execution_count": 10
        }
      ]
    },
    {
      "cell_type": "markdown",
      "source": [
        "* 正しく認識されました。"
      ],
      "metadata": {
        "id": "rBGHZOLAUbj1"
      }
    }
  ]
}