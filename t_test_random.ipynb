{
  "nbformat": 4,
  "nbformat_minor": 0,
  "metadata": {
    "colab": {
      "provenance": [],
      "authorship_tag": "ABX9TyOUF2DzlKOOf5pLZQThnPEx"
    },
    "kernelspec": {
      "name": "python3",
      "display_name": "Python 3"
    },
    "language_info": {
      "name": "python"
    }
  },
  "cells": [
    {
      "cell_type": "markdown",
      "source": [
        "# t検定\n",
        "２群間の平均値の差の検定"
      ],
      "metadata": {
        "id": "yLpoRGaAZ8J4"
      }
    },
    {
      "cell_type": "code",
      "source": [
        "# ライブラリの読み込み\n",
        "import numpy as np\n",
        "import pandas as pd\n",
        "from scipy import stats"
      ],
      "metadata": {
        "id": "xU3THRUnmuIn"
      },
      "execution_count": 1,
      "outputs": []
    },
    {
      "cell_type": "markdown",
      "source": [
        "## サンプルデータの生成\n",
        "numpy の randomモジュールを使って、２グループ分の「正規乱数」を生成します。\n",
        "\n",
        "\n",
        "ｔ検定の仮定として、データは以下のようなものとします\n",
        "* 母集団が正規分布に従っている（母集団の正規性の仮定）\n",
        "* 二群の分散が等しい（分散の均一性の仮定）\n",
        "* サンプルが独立に抽出されている（サンプルの独立性の仮定）"
      ],
      "metadata": {
        "id": "_XxQHOxraFDH"
      }
    },
    {
      "cell_type": "code",
      "execution_count": 5,
      "metadata": {
        "colab": {
          "base_uri": "https://localhost:8080/",
          "height": 448
        },
        "id": "CAGRhlX3Xbv0",
        "outputId": "8922a344-5392-4d5b-8bbe-9cd19abc9cbd"
      },
      "outputs": [
        {
          "output_type": "execute_result",
          "data": {
            "text/plain": [
              "<Axes: >"
            ]
          },
          "metadata": {},
          "execution_count": 5
        },
        {
          "output_type": "display_data",
          "data": {
            "text/plain": [
              "<Figure size 640x480 with 1 Axes>"
            ],
            "image/png": "[encoded data removed]"
          },
          "metadata": {}
        }
      ],
      "source": [
        "# Group A のデータ生成\n",
        "a = np.random.normal(\n",
        "    loc = 75, #平均\n",
        "    scale = 10, #標準偏差\n",
        "    size = 30, #データサイズ\n",
        "    )\n",
        "pd.Series(a).hist()\n",
        "\n",
        "# Group B のデータ生成\n",
        "b = np.random.normal(\n",
        "    loc = 68, #平均\n",
        "    scale = 12, #標準偏差\n",
        "    size = 30, #データサイズ\n",
        "    )\n",
        "pd.Series(b).hist()"
      ]
    },
    {
      "cell_type": "markdown",
      "source": [
        "### 実質的な差の評価\n",
        "ここで差がなければ、検定をする意味がないので・・"
      ],
      "metadata": {
        "id": "sodc3abWci2-"
      }
    },
    {
      "cell_type": "code",
      "source": [
        "# 各グループの平均を確認\n",
        "print(f'Group A の平均 = {a.mean():.2f}')\n",
        "print(f'Group B の平均 = {b.mean():.2f}')\n",
        "print(f'2群の平均の差 = {(abs(a.mean()-b.mean())):.2f}')"
      ],
      "metadata": {
        "colab": {
          "base_uri": "https://localhost:8080/"
        },
        "id": "s5CZEaitcdYn",
        "outputId": "624e5334-04b5-46ec-a92f-59106b362a88"
      },
      "execution_count": 9,
      "outputs": [
        {
          "output_type": "stream",
          "name": "stdout",
          "text": [
            "Group A の平均 = 72.47\n",
            "Group B の平均 = 64.55\n",
            "2群の平均の差 = 7.92\n"
          ]
        }
      ]
    },
    {
      "cell_type": "markdown",
      "source": [
        "## 対応のない t 検定\n",
        "\n",
        "Group A と Group B には対応がないという前提で検定します。  \n",
        "つまり、異なるメンバーにそれぞれ異なる条件で行なった実験結果と考えます。\n",
        "\n",
        "対応のないt検定では、ttest_ind() 関数を使います。\n",
        "* 等分散性があると仮定できる場合は、equal_var = Truth（スチューデントのt検定）\n",
        "* 等分散性があると仮定できない場合は、equal_var = False（ウェルチのt検定）\n",
        "\n",
        "両側検定を使うか、片側検定を使うか、目的によって以下を指定します。\n",
        "* 両側検定：alternative='two-sided'\n",
        "* 片側検定（少ない,小さい）：alternative=’less’\n",
        "* 片側検定（多い,大きい）：alternative=’greater’\n"
      ],
      "metadata": {
        "id": "qHDLnYMshnku"
      }
    },
    {
      "cell_type": "code",
      "source": [
        "# 対応のない検定は ttest_ind\n",
        "t, p = stats.ttest_ind(a, b, equal_var=True, alternative='two-sided')\n",
        "\n",
        "print(f'p値 = {p:.3f}')\n",
        "print(f't値 = {t:.2f}')"
      ],
      "metadata": {
        "colab": {
          "base_uri": "https://localhost:8080/"
        },
        "id": "aNnV32J3hsdn",
        "outputId": "86a20757-5040-4827-a8dd-c6310dc122d4"
      },
      "execution_count": 10,
      "outputs": [
        {
          "output_type": "stream",
          "name": "stdout",
          "text": [
            "p値 = 0.009\n",
            "t値 = 2.72\n"
          ]
        }
      ]
    },
    {
      "cell_type": "markdown",
      "source": [
        "実行例の場合、p<0.05 で「有意差あり」（帰無仮説は棄却）と判定されます。"
      ],
      "metadata": {
        "id": "yRQwFQJAns1p"
      }
    },
    {
      "cell_type": "markdown",
      "source": [
        "## 対応のある t 検定\n",
        "Group A と Group B には対応があるという前提で検定します。  \n",
        "つまり、同じメンバーに対して異なる条件で行なった実験結果と考えます。"
      ],
      "metadata": {
        "id": "6SJaS73fgiH-"
      }
    },
    {
      "cell_type": "code",
      "source": [
        "# 対応のある検定は ttest_rel\n",
        "t, p = stats.ttest_rel(a, b)\n",
        "\n",
        "print(f'p値 = {p:.3f}')\n",
        "print(f't値 = {t:.2f}')"
      ],
      "metadata": {
        "colab": {
          "base_uri": "https://localhost:8080/"
        },
        "id": "3NwvysbmeDFb",
        "outputId": "7cdaf9fa-764d-4878-a6b9-8683e8b6a308"
      },
      "execution_count": 11,
      "outputs": [
        {
          "output_type": "stream",
          "name": "stdout",
          "text": [
            "p値 = 0.011\n",
            "t値 = 2.73\n"
          ]
        }
      ]
    },
    {
      "cell_type": "markdown",
      "source": [],
      "metadata": {
        "id": "hy4CQ5b-okEL"
      }
    },
    {
      "cell_type": "markdown",
      "source": [
        "実行例の場合、p<0.05 で「有意差あり」（帰無仮説は棄却）と判定されます。"
      ],
      "metadata": {
        "id": "iZ7YV33XogOD"
      }
    }
  ]
}