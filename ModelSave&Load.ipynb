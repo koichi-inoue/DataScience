{
  "nbformat": 4,
  "nbformat_minor": 0,
  "metadata": {
    "colab": {
      "provenance": []
    },
    "kernelspec": {
      "name": "python3",
      "display_name": "Python 3"
    },
    "accelerator": "GPU"
  },
  "cells": [
    {
      "cell_type": "markdown",
      "metadata": {
        "id": "Z4ex8kTKUJeQ"
      },
      "source": [
        "# 学習済みモデルを保存・読み込みする方法\n",
        "* 学習済みモデルが model というオブジェクトとして存在していることを前提としたコードです。このノートのコードだけでは動きません。一連のプロセスを知りたい場合は、以下のノートをご覧ください。\n",
        "https://github.com/koichi-inoue/DataScience/blob/main/NeuralNetwork_Iris.ipynb\n",
        "* ここでは、GoogleDrive を保存場所とした事例を記載しています。\n",
        "* 学習済みモデルのシリアライズ（バイト列に変換）して保存するには、pickel というライブラリを使用します。\n"
      ]
    },
    {
      "cell_type": "markdown",
      "source": [
        "## GoogleDrive のマウントと pickel のインポート"
      ],
      "metadata": {
        "id": "P5JP7CCOhL2k"
      }
    },
    {
      "cell_type": "code",
      "source": [
        "# GoogleDrive のマウント\n",
        "from google.colab import drive\n",
        "drive.mount('/content/drive')"
      ],
      "metadata": {
        "id": "15usUPJpZjcD"
      },
      "execution_count": null,
      "outputs": []
    },
    {
      "cell_type": "code",
      "source": [
        "# pickel のインポート\n",
        "import pickle"
      ],
      "metadata": {
        "id": "_dD36hkDaBBq"
      },
      "execution_count": null,
      "outputs": []
    },
    {
      "cell_type": "markdown",
      "source": [
        "## 学習済みモデルを GoogleDrive に保存"
      ],
      "metadata": {
        "id": "E-uDNPQgZXOF"
      }
    },
    {
      "cell_type": "code",
      "source": [
        "# GoogleDrive の特定パスに、学習済みモデル（model）を model.pkl というファイル名で保存\n",
        "# ・・Path/To・・の部分は、自身で書き換えてください。\n",
        "with open('/content/drive/My Drive/・・Path/To・・/model.pkl', 'wb') as file:\n",
        "    pickle.dump(model, file)"
      ],
      "metadata": {
        "id": "g5uvcp3hbl0C"
      },
      "execution_count": null,
      "outputs": []
    },
    {
      "cell_type": "markdown",
      "source": [
        "## 学習済みモデルを GoogleDrive から読み込み + 確認"
      ],
      "metadata": {
        "id": "nJEEOiDUcbRR"
      }
    },
    {
      "cell_type": "code",
      "source": [
        "# GoogleDrive の特定パスから、モデルデータ（model.pkl）を loaded_model として読み込み\n",
        "# ・・Path/To・・の部分は、自身で書き換えてください。\n",
        "with open('/content/drive/My Drive/・・Path/To・・/model.pkl', 'rb') as file:\n",
        "    loaded_model = pickle.load(file)"
      ],
      "metadata": {
        "id": "-yqegIWfcj-p"
      },
      "execution_count": null,
      "outputs": []
    },
    {
      "cell_type": "code",
      "source": [
        "#_読み込んだモデルとテスト用データ X_test を用いて予測\n",
        "y_pred = loaded_model.predict(X_test)\n",
        "\n",
        "# 正確さ（Accuracy）の確認\n",
        "accuracy = accuracy_score(y_test, y_pred)\n",
        "print(f\"Accuracy: {accuracy * 100:.2f}%\")"
      ],
      "metadata": {
        "colab": {
          "base_uri": "https://localhost:8080/"
        },
        "id": "X1PyTViNc8gM",
        "outputId": "fe324288-1e75-4feb-ac66-6070f44f0deb"
      },
      "execution_count": null,
      "outputs": [
        {
          "output_type": "stream",
          "name": "stdout",
          "text": [
            "Accuracy: 96.67%\n"
          ]
        }
      ]
    },
    {
      "cell_type": "markdown",
      "source": [
        "# 参考：学習済みモデルを利用するサンプル\n",
        "* iris のデータを、学習済みモデルで分類するサンプルです。\n",
        "* 学習済みモデル iris_model.pkl は、以下のURLから読み込みます。  \n",
        "https://github.com/koichi-inoue/DataScience/raw/main/iris_model.pkl\n",
        "* pickel ライブラリを使用する前提です。"
      ],
      "metadata": {
        "id": "xGlbkoPJ8MiS"
      }
    },
    {
      "cell_type": "code",
      "source": [
        "# 標準的なライブラリ\n",
        "import numpy as np\n",
        "import pandas as pd\n",
        "\n",
        "# scikit-learn\n",
        "from sklearn.metrics import accuracy_score, confusion_matrix\n",
        "from sklearn import datasets\n",
        "\n",
        "# ファイルの入出力\n",
        "import requests\n",
        "from io import BytesIO\n",
        "import pickle"
      ],
      "metadata": {
        "id": "lFFGaiOb9BaN"
      },
      "execution_count": 1,
      "outputs": []
    },
    {
      "cell_type": "code",
      "source": [
        "# Iris データの読み込み\n",
        "iris = datasets.load_iris()  # データは、iris.data と iris.target に読み込まれます。\n",
        "\n",
        "# 特徴量をデータフレーム化\n",
        "df_iris_data = pd.DataFrame(iris.data, columns=iris.feature_names)\n",
        "\n",
        "# ターゲットを種の名称に置き換える\n",
        "target_names_mapping = {0: 'setosa', 1: 'versicolor', 2: 'virginica'}\n",
        "df_iris_species = [target_names_mapping[i] for i in iris.target]"
      ],
      "metadata": {
        "id": "PENmdu8RCfdc"
      },
      "execution_count": 2,
      "outputs": []
    },
    {
      "cell_type": "code",
      "source": [
        "# 学習済みモデルを読み込み\n",
        "model_url = 'https://github.com/koichi-inoue/DataScience/raw/main/iris_model.pkl'\n",
        "response = requests.get(model_url)\n",
        "\n",
        "if response.status_code == 200:\n",
        "  model_bytes = BytesIO(response.content)\n",
        "  with open(\"iris_model.pkl\", \"wb\") as f:\n",
        "    f.write(model_bytes.getvalue())\n",
        "  with open(\"iris_model.pkl\", \"rb\") as f:\n",
        "   loaded_model = pickle.load(f)\n",
        "else:\n",
        "  print(f\"エラー: {response.status_code}\")"
      ],
      "metadata": {
        "id": "bSKJIQIl9bQe"
      },
      "execution_count": 3,
      "outputs": []
    },
    {
      "cell_type": "code",
      "source": [
        "#_読み込んだデータの予測\n",
        "pred = loaded_model.predict(df_iris_data)\n",
        "\n",
        "# 正確さ（Accuracy）の確認\n",
        "accuracy = accuracy_score(df_iris_species, pred)\n",
        "print(f\"Accuracy: {accuracy * 100:.2f}%\")"
      ],
      "metadata": {
        "colab": {
          "base_uri": "https://localhost:8080/"
        },
        "id": "YmzF49eh-SB8",
        "outputId": "02e2cc68-1cc1-4435-9f0c-12d8d611efd5"
      },
      "execution_count": 4,
      "outputs": [
        {
          "output_type": "stream",
          "name": "stdout",
          "text": [
            "Accuracy: 98.00%\n"
          ]
        }
      ]
    },
    {
      "cell_type": "code",
      "source": [
        "# 混同行列を出力\n",
        "conf_mat = confusion_matrix(df_iris_species, pred)\n",
        "conf_mat"
      ],
      "metadata": {
        "colab": {
          "base_uri": "https://localhost:8080/"
        },
        "id": "LObuvTOiJ0h-",
        "outputId": "04cc0755-372c-42d1-d734-cefb8d5ba1ef"
      },
      "execution_count": 5,
      "outputs": [
        {
          "output_type": "execute_result",
          "data": {
            "text/plain": [
              "array([[50,  0,  0],\n",
              "       [ 0, 48,  2],\n",
              "       [ 0,  1, 49]])"
            ]
          },
          "metadata": {},
          "execution_count": 5
        }
      ]
    }
  ]
}