{
  "nbformat": 4,
  "nbformat_minor": 0,
  "metadata": {
    "colab": {
      "provenance": [],
      "authorship_tag": "ABX9TyO3Jf6xk5p+6XPqKbTKXKtE"
    },
    "kernelspec": {
      "name": "python3",
      "display_name": "Python 3"
    },
    "language_info": {
      "name": "python"
    }
  },
  "cells": [
    {
      "cell_type": "markdown",
      "source": [
        "# SVM｜Support-Vector Machine\n",
        "scikit-learn の SVM による 手書き文字の認識\n",
        "\n",
        "### 利用するライブラリ\n",
        "* numpy：数値計算\n",
        "* matplotlib.pyplot：画像表示\n",
        "\n",
        "* scikit-learn\n",
        "  * datasets：機械学習サンプルデータ\n",
        "  * train_test_split：学習用データとテストデータの分離\n",
        "  * svm：判別アルゴリズム サポートベクターマシン\n",
        "  * metrics：モデルの評価を行うモジュール\n",
        "\n",
        "* pillow（PIL）：画像処理\n",
        "* requests, io：画像データの読み込み\n",
        "\n",
        "### 利用するデータ\n",
        "* digits（scikit-learn の datasets に含まれます）\n",
        "  * MNIST（以下がオリジナル）のスモール版  \n",
        "  http://yann.lecun.com/exdb/mnist/  \n",
        "  * データは 0～9の 数字がそれぞれ180個前後、計1797個\n",
        "  * 個々の画像は、サイズ 8×8、明暗 0〜16 のデータ\n",
        "* 判別確認用のサンプル画像\n",
        "  * https://github.com/koichi-inoue/DataScience/blob/main/digit2.png\n",
        "  * https://github.com/koichi-inoue/DataScience/blob/main/digit7.png"
      ],
      "metadata": {
        "id": "oLbA91ah7bV5"
      }
    },
    {
      "cell_type": "markdown",
      "source": [
        "### ライブラリの読み込み"
      ],
      "metadata": {
        "id": "GVsX_s-zEWi8"
      }
    },
    {
      "cell_type": "code",
      "execution_count": null,
      "metadata": {
        "id": "xLv3Mq2E6Rr4"
      },
      "outputs": [],
      "source": [
        "# 標準的なライブラリ\n",
        "import numpy as np\n",
        "import matplotlib.pyplot as plt\n",
        "\n",
        "# 機械学習用ライブラリ\n",
        "from sklearn import datasets\n",
        "from sklearn.model_selection import train_test_split\n",
        "from sklearn import svm\n",
        "from sklearn import metrics\n",
        "\n",
        "# 画像の読み込みと表示確認に利用するライブラリ\n",
        "import requests\n",
        "import io\n",
        "from PIL import Image\n"
      ]
    },
    {
      "cell_type": "markdown",
      "source": [
        "### データの読み込み"
      ],
      "metadata": {
        "id": "mXwukvj3EfL6"
      }
    },
    {
      "cell_type": "code",
      "source": [
        "# 手書き数字データの読み込み\n",
        "digits = datasets.load_digits()\n",
        "\n",
        "# 学習データ（ 画像データはベクトルなので慣例にしたがって X は大文字 ）\n",
        "X = digits.data\n",
        "\n",
        "# 教師データ（ 回答は「数値」なので慣例にしたがって y は小文字）\n",
        "y = digits.target"
      ],
      "metadata": {
        "id": "iC4PU1xh-iNL"
      },
      "execution_count": null,
      "outputs": []
    },
    {
      "cell_type": "code",
      "source": [
        "# 各数字データの平均化した値を画像出力して確認（参考までに｜処理上は不要）\n",
        "output_images = np.zeros((10,8,8))\n",
        "fig = plt.figure(figsize=(10,5))\n",
        "for i in range(10):\n",
        "    output_images[i] = digits.images[y == i].mean(axis=0)\n",
        "    ax = fig.add_subplot(2, 5, i+1)\n",
        "    ax.axis('off')\n",
        "    ax.set_title('Digit.{0} (n={1})'.format(i, len(digits.images[y == i])))\n",
        "    ax.imshow(output_images[i], cmap=plt.cm.gray, interpolation='none')\n",
        "plt.show()"
      ],
      "metadata": {
        "colab": {
          "base_uri": "https://localhost:8080/",
          "height": 402
        },
        "id": "VPJ02EkM8r8X",
        "outputId": "1bbf5219-ce22-4904-b947-1d8f451f0839"
      },
      "execution_count": null,
      "outputs": [
        {
          "output_type": "display_data",
          "data": {
            "text/plain": [
              "<Figure size 1000x500 with 10 Axes>"
            ],
            "image/png": "[encoded data removed]"
          },
          "metadata": {}
        }
      ]
    },
    {
      "cell_type": "markdown",
      "source": [
        "### 学習用データとテストデータの分割"
      ],
      "metadata": {
        "id": "jRIMZXIDFa9K"
      }
    },
    {
      "cell_type": "code",
      "source": [
        "# データを学習用とテスト用に分割する\n",
        "X_train, X_test, y_train, y_test = train_test_split( X, y, test_size = 0.2 )\n"
      ],
      "metadata": {
        "id": "KkboN42M9MpX"
      },
      "execution_count": null,
      "outputs": []
    },
    {
      "cell_type": "markdown",
      "source": [
        "### 判別学習"
      ],
      "metadata": {
        "id": "h7M5LnwiFssR"
      }
    },
    {
      "cell_type": "code",
      "source": [
        "# 判別アルゴリズムに SVM を使用\n",
        "clf = svm.SVC( C=1.0, kernel='linear' )\n",
        "\n",
        "# 学習\n",
        "clf.fit( X_train, y_train )"
      ],
      "metadata": {
        "id": "4LqOvgR6-En0",
        "colab": {
          "base_uri": "https://localhost:8080/",
          "height": 75
        },
        "outputId": "05381288-7173-4928-a2f2-c7c907d29044"
      },
      "execution_count": null,
      "outputs": [
        {
          "output_type": "execute_result",
          "data": {
            "text/plain": [
              "SVC(kernel='linear')"
            ],
            "text/html": [
              "<style>#sk-container-id-1 {color: black;background-color: white;}#sk-container-id-1 pre{padding: 0;}#sk-container-id-1 div.sk-toggleable {background-color: white;}#sk-container-id-1 label.sk-toggleable__label {cursor: pointer;display: block;width: 100%;margin-bottom: 0;padding: 0.3em;box-sizing: border-box;text-align: center;}#sk-container-id-1 label.sk-toggleable__label-arrow:before {content: \"▸\";float: left;margin-right: 0.25em;color: #696969;}#sk-container-id-1 label.sk-toggleable__label-arrow:hover:before {color: black;}#sk-container-id-1 div.sk-estimator:hover label.sk-toggleable__label-arrow:before {color: black;}#sk-container-id-1 div.sk-toggleable__content {max-height: 0;max-width: 0;overflow: hidden;text-align: left;background-color: #f0f8ff;}#sk-container-id-1 div.sk-toggleable__content pre {margin: 0.2em;color: black;border-radius: 0.25em;background-color: #f0f8ff;}#sk-container-id-1 input.sk-toggleable__control:checked~div.sk-toggleable__content {max-height: 200px;max-width: 100%;overflow: auto;}#sk-container-id-1 input.sk-toggleable__control:checked~label.sk-toggleable__label-arrow:before {content: \"▾\";}#sk-container-id-1 div.sk-estimator input.sk-toggleable__control:checked~label.sk-toggleable__label {background-color: #d4ebff;}#sk-container-id-1 div.sk-label input.sk-toggleable__control:checked~label.sk-toggleable__label {background-color: #d4ebff;}#sk-container-id-1 input.sk-hidden--visually {border: 0;clip: rect(1px 1px 1px 1px);clip: rect(1px, 1px, 1px, 1px);height: 1px;margin: -1px;overflow: hidden;padding: 0;position: absolute;width: 1px;}#sk-container-id-1 div.sk-estimator {font-family: monospace;background-color: #f0f8ff;border: 1px dotted black;border-radius: 0.25em;box-sizing: border-box;margin-bottom: 0.5em;}#sk-container-id-1 div.sk-estimator:hover {background-color: #d4ebff;}#sk-container-id-1 div.sk-parallel-item::after {content: \"\";width: 100%;border-bottom: 1px solid gray;flex-grow: 1;}#sk-container-id-1 div.sk-label:hover label.sk-toggleable__label {background-color: #d4ebff;}#sk-container-id-1 div.sk-serial::before {content: \"\";position: absolute;border-left: 1px solid gray;box-sizing: border-box;top: 0;bottom: 0;left: 50%;z-index: 0;}#sk-container-id-1 div.sk-serial {display: flex;flex-direction: column;align-items: center;background-color: white;padding-right: 0.2em;padding-left: 0.2em;position: relative;}#sk-container-id-1 div.sk-item {position: relative;z-index: 1;}#sk-container-id-1 div.sk-parallel {display: flex;align-items: stretch;justify-content: center;background-color: white;position: relative;}#sk-container-id-1 div.sk-item::before, #sk-container-id-1 div.sk-parallel-item::before {content: \"\";position: absolute;border-left: 1px solid gray;box-sizing: border-box;top: 0;bottom: 0;left: 50%;z-index: -1;}#sk-container-id-1 div.sk-parallel-item {display: flex;flex-direction: column;z-index: 1;position: relative;background-color: white;}#sk-container-id-1 div.sk-parallel-item:first-child::after {align-self: flex-end;width: 50%;}#sk-container-id-1 div.sk-parallel-item:last-child::after {align-self: flex-start;width: 50%;}#sk-container-id-1 div.sk-parallel-item:only-child::after {width: 0;}#sk-container-id-1 div.sk-dashed-wrapped {border: 1px dashed gray;margin: 0 0.4em 0.5em 0.4em;box-sizing: border-box;padding-bottom: 0.4em;background-color: white;}#sk-container-id-1 div.sk-label label {font-family: monospace;font-weight: bold;display: inline-block;line-height: 1.2em;}#sk-container-id-1 div.sk-label-container {text-align: center;}#sk-container-id-1 div.sk-container {/* jupyter's `normalize.less` sets `[hidden] { display: none; }` but bootstrap.min.css set `[hidden] { display: none !important; }` so we also need the `!important` here to be able to override the default hidden behavior on the sphinx rendered scikit-learn.org. See: https://github.com/scikit-learn/scikit-learn/issues/21755 */display: inline-block !important;position: relative;}#sk-container-id-1 div.sk-text-repr-fallback {display: none;}</style><div id=\"sk-container-id-1\" class=\"sk-top-container\"><div class=\"sk-text-repr-fallback\"><pre>SVC(kernel=&#x27;linear&#x27;)</pre><b>In a Jupyter environment, please rerun this cell to show the HTML representation or trust the notebook. <br />On GitHub, the HTML representation is unable to render, please try loading this page with nbviewer.org.</b></div><div class=\"sk-container\" hidden><div class=\"sk-item\"><div class=\"sk-estimator sk-toggleable\"><input class=\"sk-toggleable__control sk-hidden--visually\" id=\"sk-estimator-id-1\" type=\"checkbox\" checked><label for=\"sk-estimator-id-1\" class=\"sk-toggleable__label sk-toggleable__label-arrow\">SVC</label><div class=\"sk-toggleable__content\"><pre>SVC(kernel=&#x27;linear&#x27;)</pre></div></div></div></div></div>"
            ]
          },
          "metadata": {},
          "execution_count": 5
        }
      ]
    },
    {
      "cell_type": "markdown",
      "source": [
        "* SVM(サポートベクターマシン)とは、教師あり学習のクラス分類と、回帰のできる機械学習アルゴリズムです。"
      ],
      "metadata": {
        "id": "4EOk0PuG_eSq"
      }
    },
    {
      "cell_type": "markdown",
      "source": [
        "### 予測"
      ],
      "metadata": {
        "id": "QblKG3RIGA1Z"
      }
    },
    {
      "cell_type": "code",
      "source": [
        "# 予測（Predicted）\n",
        "y_pred = clf.predict( X_test )\n",
        "\n",
        "# 正解率 (Accuracy)\n",
        "metrics.accuracy_score(y_pred, y_test)"
      ],
      "metadata": {
        "colab": {
          "base_uri": "https://localhost:8080/"
        },
        "id": "L_zH8kAvBMJw",
        "outputId": "bfa010df-d8d6-4cca-8196-c600ec69d1f3"
      },
      "execution_count": null,
      "outputs": [
        {
          "output_type": "execute_result",
          "data": {
            "text/plain": [
              "0.975"
            ]
          },
          "metadata": {},
          "execution_count": 6
        }
      ]
    },
    {
      "cell_type": "markdown",
      "source": [
        "* テストデータでは、98% の正解率になっています。"
      ],
      "metadata": {
        "id": "cYok2Iw0ISOG"
      }
    },
    {
      "cell_type": "markdown",
      "source": [
        "### 混同行列で確認"
      ],
      "metadata": {
        "id": "3rxslGELGJnh"
      }
    },
    {
      "cell_type": "markdown",
      "source": [],
      "metadata": {
        "id": "r1Ua88rWJQSt"
      }
    },
    {
      "cell_type": "code",
      "source": [
        "# predicted（X_test の予測） y_testでクロスをとる。\n",
        "metrics.confusion_matrix( y_pred, y_test )"
      ],
      "metadata": {
        "colab": {
          "base_uri": "https://localhost:8080/"
        },
        "id": "KkeDO06SGNnh",
        "outputId": "eda657a8-f196-4359-d2d8-0f61ce260cb5"
      },
      "execution_count": null,
      "outputs": [
        {
          "output_type": "execute_result",
          "data": {
            "text/plain": [
              "array([[35,  0,  0,  0,  0,  0,  0,  0,  0,  0],\n",
              "       [ 0, 34,  0,  0,  0,  0,  0,  0,  1,  0],\n",
              "       [ 0,  0, 47,  0,  0,  0,  0,  0,  0,  0],\n",
              "       [ 0,  0,  0, 32,  0,  0,  0,  0,  0,  1],\n",
              "       [ 1,  0,  0,  0, 39,  0,  0,  0,  1,  0],\n",
              "       [ 0,  0,  0,  0,  0, 29,  0,  0,  0,  0],\n",
              "       [ 0,  0,  0,  0,  0,  0, 37,  0,  0,  0],\n",
              "       [ 0,  0,  0,  0,  0,  0,  0, 29,  0,  1],\n",
              "       [ 0,  0,  0,  1,  0,  0,  0,  0, 31,  1],\n",
              "       [ 0,  0,  0,  0,  0,  0,  0,  1,  1, 38]])"
            ]
          },
          "metadata": {},
          "execution_count": 7
        }
      ]
    },
    {
      "cell_type": "markdown",
      "source": [
        "* 対角線上にあるものは、正しく予測されたデータの数で、対角線から外れたものは、予測が間違えていることを意味します。"
      ],
      "metadata": {
        "id": "l8RDl4D3GWX5"
      }
    },
    {
      "cell_type": "markdown",
      "source": [
        "## 自作画像で検証"
      ],
      "metadata": {
        "id": "yge-Vi0pQcHE"
      }
    },
    {
      "cell_type": "markdown",
      "source": [
        "### サンプル画像の読み込み"
      ],
      "metadata": {
        "id": "dvxMPh_yVqI7"
      }
    },
    {
      "cell_type": "code",
      "source": [
        "# サンプル画像の読み込み\n",
        "url = requests.get('https://raw.githubusercontent.com/koichi-inoue/DataScience/main/digit2.png')\n",
        "\n",
        "# 画像を読み込んで 8bit(256階調) gray に変換\n",
        "my_image = Image.open(io.BytesIO(url.content)).convert('L')\n",
        "plt.imshow(my_image, cmap=plt.cm.gray)\n",
        "plt.show()"
      ],
      "metadata": {
        "colab": {
          "base_uri": "https://localhost:8080/",
          "height": 434
        },
        "id": "p9Fzjgd3Qfyc",
        "outputId": "6c849844-0b1c-4beb-c1aa-746e89bee315"
      },
      "execution_count": null,
      "outputs": [
        {
          "output_type": "display_data",
          "data": {
            "text/plain": [
              "<Figure size 640x480 with 1 Axes>"
            ],
            "image/png": "[encoded data removed]"
          },
          "metadata": {}
        }
      ]
    },
    {
      "cell_type": "markdown",
      "source": [
        "### 画像データをモデルの形式に合わせる"
      ],
      "metadata": {
        "id": "gJpj1AvOWwJi"
      }
    },
    {
      "cell_type": "code",
      "source": [
        "# 8×8にリサイズ\n",
        "my_image = my_image.resize((8, 8), Image.LANCZOS)\n",
        "# ndarray型に変換\n",
        "my_image = np.array( my_image, dtype=float )\n",
        "# レベルを 0-16にするとともに階調を反転\n",
        "my_image = 16 - np.floor(17 * my_image / 256)\n",
        "\n",
        "# 画像出力（digits形式に変換後）\n",
        "plt.imshow(my_image,cmap=plt.cm.gray, interpolation='none')\n",
        "plt.show()\n"
      ],
      "metadata": {
        "colab": {
          "base_uri": "https://localhost:8080/",
          "height": 430
        },
        "id": "Mhx_NBXzQmVb",
        "outputId": "0e60753d-855c-47d7-b2d9-8548ac64486d"
      },
      "execution_count": null,
      "outputs": [
        {
          "output_type": "display_data",
          "data": {
            "text/plain": [
              "<Figure size 640x480 with 1 Axes>"
            ],
            "image/png": "[encoded data removed]"
          },
          "metadata": {}
        }
      ]
    },
    {
      "cell_type": "markdown",
      "source": [
        "### 予測（画像認識）"
      ],
      "metadata": {
        "id": "kPGvo-lJXO4s"
      }
    },
    {
      "cell_type": "code",
      "source": [
        "# 二次元を一次元に変換\n",
        "my_image = my_image.reshape((-1,64))\n",
        "# 予測判定\n",
        "res = clf.predict( my_image )\n",
        "res[0]"
      ],
      "metadata": {
        "colab": {
          "base_uri": "https://localhost:8080/"
        },
        "id": "HFs1a1h1SXRm",
        "outputId": "3e1779ba-191e-496f-d21b-c02397075a60"
      },
      "execution_count": null,
      "outputs": [
        {
          "output_type": "execute_result",
          "data": {
            "text/plain": [
              "2"
            ]
          },
          "metadata": {},
          "execution_count": 10
        }
      ]
    },
    {
      "cell_type": "markdown",
      "source": [
        "* 正しく認識されました。"
      ],
      "metadata": {
        "id": "rBGHZOLAUbj1"
      }
    }
  ]
}