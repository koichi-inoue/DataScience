{
  "nbformat": 4,
  "nbformat_minor": 0,
  "metadata": {
    "colab": {
      "provenance": [],
      "authorship_tag": "ABX9TyNYR7MM6IT90XolpQnZb6jt"
    },
    "kernelspec": {
      "name": "python3",
      "display_name": "Python 3"
    },
    "language_info": {
      "name": "python"
    }
  },
  "cells": [
    {
      "cell_type": "markdown",
      "source": [
        "# t検定のサンプル\n",
        "### GPAと出席率に関する　理系・文系比較　男女比較\n",
        "２群間の平均値の差の検定の行います。\n",
        "約500件の 架空の GPA,出席率のデータで「対応のない2標本t検定」を行う事例です。  \n",
        "カテゴリには、理系・文系の別、また性別があります。\n",
        "\n",
        "統計的仮説検定では、検定統計量の算出における手続き上、サンプルサイズが大きくなると P値は小さくなって「有意差あり」となる傾向があります。この例では、全体で500件、理系・文系の学生数はほぼ同数です。p値が小さいことよりも、どれぐらい平均値が異なるか・・ということの方が実務上は重要な情報になるかと思います。\n",
        "\n",
        "ここで行っているのは、標本から母数の差を推定する作業です。もしこの500件が「ある大学の全数」であれば、記述統計的には「〇〇大学においてはGPAと出席率に関して、理系文系の差があり、また男女の差もある」ということになります。\n",
        "\n",
        "ここで行っている仮設検定（推測統計）は、この500件を「世界中の学生の中からランダムに抽出したもの」として、つまり母数を世界の学生全体として、世の中一般の傾向として、理系と文系、あるいは男女に差があるかを推測している・・という話になります。\n",
        "\n",
        "付記：t検定の仮定として、このデータは以下の仮定を満たすものと見做します\n",
        "* データが正規分布に従っている（正規性の仮定）\n",
        "* 二群の分散が等しい（等分散性の仮定）\n"
      ],
      "metadata": {
        "id": "yLpoRGaAZ8J4"
      }
    },
    {
      "cell_type": "code",
      "source": [
        "# ライブラリの読み込み\n",
        "import numpy as np\n",
        "import pandas as pd\n",
        "from matplotlib import pyplot as plt\n",
        "from scipy import stats"
      ],
      "metadata": {
        "id": "xU3THRUnmuIn"
      },
      "execution_count": null,
      "outputs": []
    },
    {
      "cell_type": "code",
      "execution_count": null,
      "metadata": {
        "colab": {
          "base_uri": "https://localhost:8080/",
          "height": 424
        },
        "id": "CAGRhlX3Xbv0",
        "outputId": "bf05c516-f912-4f6f-dc86-4395123924ad"
      },
      "outputs": [
        {
          "output_type": "execute_result",
          "data": {
            "text/plain": [
              "     学系 性別    GPA   出席率\n",
              "0    理系  男  1.763  0.86\n",
              "1    文系  男  1.118  0.48\n",
              "2    理系  男  1.500  0.79\n",
              "3    文系  男  2.258  0.68\n",
              "4    文系  男  3.361  0.92\n",
              "..   .. ..    ...   ...\n",
              "487  文系  女  2.055  0.54\n",
              "488  理系  男  1.705  0.83\n",
              "489  文系  男  2.808  0.88\n",
              "490  理系  男  2.105  0.96\n",
              "491  文系  女  2.614  0.85\n",
              "\n",
              "[492 rows x 4 columns]"
            ],
            "text/html": [
              "\n",
              "  <div id=\"df-d5d8dd37-3ad9-43f3-8d9c-ef28529dff84\" class=\"colab-df-container\">\n",
              "    <div>\n",
              "<style scoped>\n",
              "    .dataframe tbody tr th:only-of-type {\n",
              "        vertical-align: middle;\n",
              "    }\n",
              "\n",
              "    .dataframe tbody tr th {\n",
              "        vertical-align: top;\n",
              "    }\n",
              "\n",
              "    .dataframe thead th {\n",
              "        text-align: right;\n",
              "    }\n",
              "</style>\n",
              "<table border=\"1\" class=\"dataframe\">\n",
              "  <thead>\n",
              "    <tr style=\"text-align: right;\">\n",
              "      <th></th>\n",
              "      <th>学系</th>\n",
              "      <th>性別</th>\n",
              "      <th>GPA</th>\n",
              "      <th>出席率</th>\n",
              "    </tr>\n",
              "  </thead>\n",
              "  <tbody>\n",
              "    <tr>\n",
              "      <th>0</th>\n",
              "      <td>理系</td>\n",
              "      <td>男</td>\n",
              "      <td>1.763</td>\n",
              "      <td>0.86</td>\n",
              "    </tr>\n",
              "    <tr>\n",
              "      <th>1</th>\n",
              "      <td>文系</td>\n",
              "      <td>男</td>\n",
              "      <td>1.118</td>\n",
              "      <td>0.48</td>\n",
              "    </tr>\n",
              "    <tr>\n",
              "      <th>2</th>\n",
              "      <td>理系</td>\n",
              "      <td>男</td>\n",
              "      <td>1.500</td>\n",
              "      <td>0.79</td>\n",
              "    </tr>\n",
              "    <tr>\n",
              "      <th>3</th>\n",
              "      <td>文系</td>\n",
              "      <td>男</td>\n",
              "      <td>2.258</td>\n",
              "      <td>0.68</td>\n",
              "    </tr>\n",
              "    <tr>\n",
              "      <th>4</th>\n",
              "      <td>文系</td>\n",
              "      <td>男</td>\n",
              "      <td>3.361</td>\n",
              "      <td>0.92</td>\n",
              "    </tr>\n",
              "    <tr>\n",
              "      <th>...</th>\n",
              "      <td>...</td>\n",
              "      <td>...</td>\n",
              "      <td>...</td>\n",
              "      <td>...</td>\n",
              "    </tr>\n",
              "    <tr>\n",
              "      <th>487</th>\n",
              "      <td>文系</td>\n",
              "      <td>女</td>\n",
              "      <td>2.055</td>\n",
              "      <td>0.54</td>\n",
              "    </tr>\n",
              "    <tr>\n",
              "      <th>488</th>\n",
              "      <td>理系</td>\n",
              "      <td>男</td>\n",
              "      <td>1.705</td>\n",
              "      <td>0.83</td>\n",
              "    </tr>\n",
              "    <tr>\n",
              "      <th>489</th>\n",
              "      <td>文系</td>\n",
              "      <td>男</td>\n",
              "      <td>2.808</td>\n",
              "      <td>0.88</td>\n",
              "    </tr>\n",
              "    <tr>\n",
              "      <th>490</th>\n",
              "      <td>理系</td>\n",
              "      <td>男</td>\n",
              "      <td>2.105</td>\n",
              "      <td>0.96</td>\n",
              "    </tr>\n",
              "    <tr>\n",
              "      <th>491</th>\n",
              "      <td>文系</td>\n",
              "      <td>女</td>\n",
              "      <td>2.614</td>\n",
              "      <td>0.85</td>\n",
              "    </tr>\n",
              "  </tbody>\n",
              "</table>\n",
              "<p>492 rows × 4 columns</p>\n",
              "</div>\n",
              "    <div class=\"colab-df-buttons\">\n",
              "\n",
              "  <div class=\"colab-df-container\">\n",
              "    <button class=\"colab-df-convert\" onclick=\"convertToInteractive('df-d5d8dd37-3ad9-43f3-8d9c-ef28529dff84')\"\n",
              "            title=\"Convert this dataframe to an interactive table.\"\n",
              "            style=\"display:none;\">\n",
              "\n",
              "  <svg xmlns=\"http://www.w3.org/2000/svg\" height=\"24px\" viewBox=\"0 -960 960 960\">\n",
              "    <path d=\"M120-120v-720h720v720H120Zm60-500h600v-160H180v160Zm220 220h160v-160H400v160Zm0 220h160v-160H400v160ZM180-400h160v-160H180v160Zm440 0h160v-160H620v160ZM180-180h160v-160H180v160Zm440 0h160v-160H620v160Z\"/>\n",
              "  </svg>\n",
              "    </button>\n",
              "\n",
              "  <style>\n",
              "    .colab-df-container {\n",
              "      display:flex;\n",
              "      gap: 12px;\n",
              "    }\n",
              "\n",
              "    .colab-df-convert {\n",
              "      background-color: #E8F0FE;\n",
              "      border: none;\n",
              "      border-radius: 50%;\n",
              "      cursor: pointer;\n",
              "      display: none;\n",
              "      fill: #1967D2;\n",
              "      height: 32px;\n",
              "      padding: 0 0 0 0;\n",
              "      width: 32px;\n",
              "    }\n",
              "\n",
              "    .colab-df-convert:hover {\n",
              "      background-color: #E2EBFA;\n",
              "      box-shadow: 0px 1px 2px rgba(60, 64, 67, 0.3), 0px 1px 3px 1px rgba(60, 64, 67, 0.15);\n",
              "      fill: #174EA6;\n",
              "    }\n",
              "\n",
              "    .colab-df-buttons div {\n",
              "      margin-bottom: 4px;\n",
              "    }\n",
              "\n",
              "    [theme=dark] .colab-df-convert {\n",
              "      background-color: #3B4455;\n",
              "      fill: #D2E3FC;\n",
              "    }\n",
              "\n",
              "    [theme=dark] .colab-df-convert:hover {\n",
              "      background-color: #434B5C;\n",
              "      box-shadow: 0px 1px 3px 1px rgba(0, 0, 0, 0.15);\n",
              "      filter: drop-shadow(0px 1px 2px rgba(0, 0, 0, 0.3));\n",
              "      fill: #FFFFFF;\n",
              "    }\n",
              "  </style>\n",
              "\n",
              "    <script>\n",
              "      const buttonEl =\n",
              "        document.querySelector('#df-d5d8dd37-3ad9-43f3-8d9c-ef28529dff84 button.colab-df-convert');\n",
              "      buttonEl.style.display =\n",
              "        google.colab.kernel.accessAllowed ? 'block' : 'none';\n",
              "\n",
              "      async function convertToInteractive(key) {\n",
              "        const element = document.querySelector('#df-d5d8dd37-3ad9-43f3-8d9c-ef28529dff84');\n",
              "        const dataTable =\n",
              "          await google.colab.kernel.invokeFunction('convertToInteractive',\n",
              "                                                    [key], {});\n",
              "        if (!dataTable) return;\n",
              "\n",
              "        const docLinkHtml = 'Like what you see? Visit the ' +\n",
              "          '<a target=\"_blank\" href=https://colab.research.google.com/notebooks/data_table.ipynb>data table notebook</a>'\n",
              "          + ' to learn more about interactive tables.';\n",
              "        element.innerHTML = '';\n",
              "        dataTable['output_type'] = 'display_data';\n",
              "        await google.colab.output.renderOutput(dataTable, element);\n",
              "        const docLink = document.createElement('div');\n",
              "        docLink.innerHTML = docLinkHtml;\n",
              "        element.appendChild(docLink);\n",
              "      }\n",
              "    </script>\n",
              "  </div>\n",
              "\n",
              "\n",
              "<div id=\"df-d581a976-41b7-4e09-b233-878d4502f212\">\n",
              "  <button class=\"colab-df-quickchart\" onclick=\"quickchart('df-d581a976-41b7-4e09-b233-878d4502f212')\"\n",
              "            title=\"Suggest charts\"\n",
              "            style=\"display:none;\">\n",
              "\n",
              "<svg xmlns=\"http://www.w3.org/2000/svg\" height=\"24px\"viewBox=\"0 0 24 24\"\n",
              "     width=\"24px\">\n",
              "    <g>\n",
              "        <path d=\"M19 3H5c-1.1 0-2 .9-2 2v14c0 1.1.9 2 2 2h14c1.1 0 2-.9 2-2V5c0-1.1-.9-2-2-2zM9 17H7v-7h2v7zm4 0h-2V7h2v10zm4 0h-2v-4h2v4z\"/>\n",
              "    </g>\n",
              "</svg>\n",
              "  </button>\n",
              "\n",
              "<style>\n",
              "  .colab-df-quickchart {\n",
              "      --bg-color: #E8F0FE;\n",
              "      --fill-color: #1967D2;\n",
              "      --hover-bg-color: #E2EBFA;\n",
              "      --hover-fill-color: #174EA6;\n",
              "      --disabled-fill-color: #AAA;\n",
              "      --disabled-bg-color: #DDD;\n",
              "  }\n",
              "\n",
              "  [theme=dark] .colab-df-quickchart {\n",
              "      --bg-color: #3B4455;\n",
              "      --fill-color: #D2E3FC;\n",
              "      --hover-bg-color: #434B5C;\n",
              "      --hover-fill-color: #FFFFFF;\n",
              "      --disabled-bg-color: #3B4455;\n",
              "      --disabled-fill-color: #666;\n",
              "  }\n",
              "\n",
              "  .colab-df-quickchart {\n",
              "    background-color: var(--bg-color);\n",
              "    border: none;\n",
              "    border-radius: 50%;\n",
              "    cursor: pointer;\n",
              "    display: none;\n",
              "    fill: var(--fill-color);\n",
              "    height: 32px;\n",
              "    padding: 0;\n",
              "    width: 32px;\n",
              "  }\n",
              "\n",
              "  .colab-df-quickchart:hover {\n",
              "    background-color: var(--hover-bg-color);\n",
              "    box-shadow: 0 1px 2px rgba(60, 64, 67, 0.3), 0 1px 3px 1px rgba(60, 64, 67, 0.15);\n",
              "    fill: var(--button-hover-fill-color);\n",
              "  }\n",
              "\n",
              "  .colab-df-quickchart-complete:disabled,\n",
              "  .colab-df-quickchart-complete:disabled:hover {\n",
              "    background-color: var(--disabled-bg-color);\n",
              "    fill: var(--disabled-fill-color);\n",
              "    box-shadow: none;\n",
              "  }\n",
              "\n",
              "  .colab-df-spinner {\n",
              "    border: 2px solid var(--fill-color);\n",
              "    border-color: transparent;\n",
              "    border-bottom-color: var(--fill-color);\n",
              "    animation:\n",
              "      spin 1s steps(1) infinite;\n",
              "  }\n",
              "\n",
              "  @keyframes spin {\n",
              "    0% {\n",
              "      border-color: transparent;\n",
              "      border-bottom-color: var(--fill-color);\n",
              "      border-left-color: var(--fill-color);\n",
              "    }\n",
              "    20% {\n",
              "      border-color: transparent;\n",
              "      border-left-color: var(--fill-color);\n",
              "      border-top-color: var(--fill-color);\n",
              "    }\n",
              "    30% {\n",
              "      border-color: transparent;\n",
              "      border-left-color: var(--fill-color);\n",
              "      border-top-color: var(--fill-color);\n",
              "      border-right-color: var(--fill-color);\n",
              "    }\n",
              "    40% {\n",
              "      border-color: transparent;\n",
              "      border-right-color: var(--fill-color);\n",
              "      border-top-color: var(--fill-color);\n",
              "    }\n",
              "    60% {\n",
              "      border-color: transparent;\n",
              "      border-right-color: var(--fill-color);\n",
              "    }\n",
              "    80% {\n",
              "      border-color: transparent;\n",
              "      border-right-color: var(--fill-color);\n",
              "      border-bottom-color: var(--fill-color);\n",
              "    }\n",
              "    90% {\n",
              "      border-color: transparent;\n",
              "      border-bottom-color: var(--fill-color);\n",
              "    }\n",
              "  }\n",
              "</style>\n",
              "\n",
              "  <script>\n",
              "    async function quickchart(key) {\n",
              "      const quickchartButtonEl =\n",
              "        document.querySelector('#' + key + ' button');\n",
              "      quickchartButtonEl.disabled = true;  // To prevent multiple clicks.\n",
              "      quickchartButtonEl.classList.add('colab-df-spinner');\n",
              "      try {\n",
              "        const charts = await google.colab.kernel.invokeFunction(\n",
              "            'suggestCharts', [key], {});\n",
              "      } catch (error) {\n",
              "        console.error('Error during call to suggestCharts:', error);\n",
              "      }\n",
              "      quickchartButtonEl.classList.remove('colab-df-spinner');\n",
              "      quickchartButtonEl.classList.add('colab-df-quickchart-complete');\n",
              "    }\n",
              "    (() => {\n",
              "      let quickchartButtonEl =\n",
              "        document.querySelector('#df-d581a976-41b7-4e09-b233-878d4502f212 button');\n",
              "      quickchartButtonEl.style.display =\n",
              "        google.colab.kernel.accessAllowed ? 'block' : 'none';\n",
              "    })();\n",
              "  </script>\n",
              "</div>\n",
              "    </div>\n",
              "  </div>\n"
            ]
          },
          "metadata": {},
          "execution_count": 2
        }
      ],
      "source": [
        "# サンプルデータの読み込み\n",
        "df = pd.read_csv('https://raw.githubusercontent.com/koichi-inoue/DataScience/main/SampleForT-test.csv')\n",
        "df"
      ]
    },
    {
      "cell_type": "markdown",
      "source": [
        "## 1. GPAを理系と文系で比較\n"
      ],
      "metadata": {
        "id": "Y9BNxe5-nGfb"
      }
    },
    {
      "cell_type": "code",
      "source": [
        "# 理系学生のGPAを df1 に抽出します\n",
        "df1 = df.query( ' 学系 == \"理系\" ')['GPA']\n",
        "df1.describe()"
      ],
      "metadata": {
        "colab": {
          "base_uri": "https://localhost:8080/"
        },
        "id": "XOF10j9evA_Y",
        "outputId": "db941da3-f89d-4146-cfd1-f2fff011249a"
      },
      "execution_count": null,
      "outputs": [
        {
          "output_type": "execute_result",
          "data": {
            "text/plain": [
              "count    243.000000\n",
              "mean       2.282263\n",
              "std        0.733790\n",
              "min        0.000000\n",
              "25%        1.767000\n",
              "50%        2.324000\n",
              "75%        2.844000\n",
              "max        3.870000\n",
              "Name: GPA, dtype: float64"
            ]
          },
          "metadata": {},
          "execution_count": 4
        }
      ]
    },
    {
      "cell_type": "code",
      "source": [
        "# 文系学生のGPAを df2 に抽出します\n",
        "df2 = df.query( ' 学系 == \"文系\" ')['GPA']\n",
        "df2.describe()"
      ],
      "metadata": {
        "colab": {
          "base_uri": "https://localhost:8080/"
        },
        "id": "di7uSFwStkwV",
        "outputId": "f8418b70-d453-47c6-b4a8-7fd36c4e728f"
      },
      "execution_count": null,
      "outputs": [
        {
          "output_type": "execute_result",
          "data": {
            "text/plain": [
              "count    249.000000\n",
              "mean       1.996747\n",
              "std        0.793851\n",
              "min        0.254000\n",
              "25%        1.400000\n",
              "50%        1.912000\n",
              "75%        2.556000\n",
              "max        3.758000\n",
              "Name: GPA, dtype: float64"
            ]
          },
          "metadata": {},
          "execution_count": 5
        }
      ]
    },
    {
      "cell_type": "code",
      "source": [
        "#データをプロットして視覚的に確認\n",
        "df1.hist(bins=15, color=\"blue\", alpha=0.5, label=f\"rikei\" )\n",
        "df2.hist(bins=15, color=\"green\",alpha=0.5, label=f\"bunkei\" )\n",
        "plt.legend()"
      ],
      "metadata": {
        "colab": {
          "base_uri": "https://localhost:8080/",
          "height": 448
        },
        "id": "s5CZEaitcdYn",
        "outputId": "e56423da-275a-4ce9-cca7-4386d8f1b1fa"
      },
      "execution_count": null,
      "outputs": [
        {
          "output_type": "execute_result",
          "data": {
            "text/plain": [
              "<matplotlib.legend.Legend at 0x7a2265060cd0>"
            ]
          },
          "metadata": {},
          "execution_count": 15
        },
        {
          "output_type": "display_data",
          "data": {
            "text/plain": [
              "<Figure size 640x480 with 1 Axes>"
            ],
            "image/png": "[encoded data removed]"
          },
          "metadata": {}
        }
      ]
    },
    {
      "cell_type": "code",
      "source": [
        "#統計ライブラリの関数を利用するために DataFrame を NumPy配列（ndarray）に変換します。\n",
        "d1 = df1.values\n",
        "d2 = df2.values"
      ],
      "metadata": {
        "id": "bT326Exk0DBQ"
      },
      "execution_count": null,
      "outputs": []
    },
    {
      "cell_type": "code",
      "source": [
        "# 対応のないt検定：scipy.stats ＞ ttest_ind()\n",
        "t, p = stats.ttest_ind(d1, d2, equal_var=True, alternative='two-sided')\n",
        "\n",
        "print(f'p値 = {p:.5f}')\n",
        "print(f't値 = {t:.3f}')"
      ],
      "metadata": {
        "colab": {
          "base_uri": "https://localhost:8080/"
        },
        "id": "aNnV32J3hsdn",
        "outputId": "0a5acd55-70c1-4947-f717-2344c26ac31d"
      },
      "execution_count": null,
      "outputs": [
        {
          "output_type": "stream",
          "name": "stdout",
          "text": [
            "p値 = 0.00004\n",
            "t値 = 4.140\n"
          ]
        }
      ]
    },
    {
      "cell_type": "code",
      "source": [],
      "metadata": {
        "id": "KcFiRvAunvi0"
      },
      "execution_count": null,
      "outputs": []
    },
    {
      "cell_type": "markdown",
      "source": [
        "実行例の場合、p<0.05 で「有意差あり」（帰無仮説は棄却）と判定されます。"
      ],
      "metadata": {
        "id": "iZ7YV33XogOD"
      }
    },
    {
      "cell_type": "markdown",
      "source": [
        "## 2. GPAを性別で比較\n",
        "データの抽出から検定までを一気に書きます。"
      ],
      "metadata": {
        "id": "LDvgnWM5nP8D"
      }
    },
    {
      "cell_type": "code",
      "source": [
        "df3 = df.query( ' 性別 == \"男\" ')['GPA']\n",
        "df4 = df.query( ' 性別 == \"女\" ')['GPA']\n",
        "\n",
        "df3.hist(bins=15, color=\"blue\", alpha=0.5, label=f\"male\" )\n",
        "df4.hist(bins=15, color=\"red\", alpha=0.5, label=f\"female\" )\n",
        "plt.legend()\n",
        "\n",
        "d3 = df3.values\n",
        "d4 = df4.values\n",
        "\n",
        "t, p = stats.ttest_ind(d3, d4, equal_var=True, alternative='two-sided')\n",
        "\n",
        "print(f'p値 = {p:.5f}')\n",
        "print(f't値 = {t:.3f}')"
      ],
      "metadata": {
        "colab": {
          "base_uri": "https://localhost:8080/",
          "height": 466
        },
        "outputId": "bd1c0f2d-4195-48ce-d323-7b036391bfa2",
        "id": "qh5moHPAoGgO"
      },
      "execution_count": null,
      "outputs": [
        {
          "output_type": "stream",
          "name": "stdout",
          "text": [
            "p値 = 0.00000\n",
            "t値 = -6.726\n"
          ]
        },
        {
          "output_type": "display_data",
          "data": {
            "text/plain": [
              "<Figure size 640x480 with 1 Axes>"
            ],
            "image/png": "[encoded data removed]"
          },
          "metadata": {}
        }
      ]
    },
    {
      "cell_type": "markdown",
      "source": [
        "## 3. 出席率を理系・文系で比較\n",
        "上に倣って、自身でコードを書いてみましょう"
      ],
      "metadata": {
        "id": "N15oFlOqnfCh"
      }
    },
    {
      "cell_type": "markdown",
      "source": [
        "## 4. 出席率を性別で比較\n",
        "上に倣って、自身でコードを書いてみましょう"
      ],
      "metadata": {
        "id": "KShR0FWxnfyI"
      }
    }
  ]
}