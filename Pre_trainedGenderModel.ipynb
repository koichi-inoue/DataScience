{
  "nbformat": 4,
  "nbformat_minor": 0,
  "metadata": {
    "colab": {
      "provenance": []
    },
    "kernelspec": {
      "name": "python3",
      "display_name": "Python 3"
    },
    "accelerator": "GPU"
  },
  "cells": [
    {
      "cell_type": "markdown",
      "source": [
        "# 学習済みモデルを利用した性別予測\n",
        "* 先日の調査データ（N=30）に基づく学習済みモデルで性別を予測するサンプルです。\n",
        "* 学習済みモデル gender_model.pkl は、以下のURLから読み込みます。  \n",
        "* https://github.com/koichi-inoue/DataScience/raw/main/gender_model.pkl\n",
        "\n",
        "### モデルが学習した特徴量は、以下のとおり\n",
        "* 形式科学（数学・統計学等）に対する関心度  ＞　興味ない 1,2,3,4,5 興味ある\n",
        "* 自然科学（物理・化学・生物等）に対する関心度  ＞　興味ない 1,2,3,4,5 興味ある\n",
        "* 情報科学（コンピュータ・情報処理等）に対する関心度  ＞　興味ない 1,2,3,4,5 興味ある\n",
        "* ３年次以降、研究（探究）したいテーマは定まっていますか  ＞　特にない 1,2,3,4,5 明確に定まっている\n",
        "* １日あたりの運動（スポーツ・筋トレ等）の時間を教えて下さい＞ 1,2,3,4,5（時間）\n",
        "* １日あたりの平均睡眠時間を教えて下さい　＞ 1,2,3,4,5 （5時間 - 9時間に対応)\n",
        "\n",
        "### 注意\n",
        "* ソーシャルデザイン学科２年生のアンケート結果にもとづいて学習させていますので、  \n",
        "異なる母集団に属する方の性別推定はできない・・とお考え下さい。\n"
      ],
      "metadata": {
        "id": "xGlbkoPJ8MiS"
      }
    },
    {
      "cell_type": "code",
      "source": [
        "# 標準的なライブラリ\n",
        "import pandas as pd\n",
        "\n",
        "# scikit-learn\n",
        "from sklearn.metrics import accuracy_score, confusion_matrix\n",
        "\n",
        "# ファイルの入出力\n",
        "import requests\n",
        "from io import BytesIO\n",
        "import pickle"
      ],
      "metadata": {
        "id": "lFFGaiOb9BaN"
      },
      "execution_count": 1,
      "outputs": []
    },
    {
      "cell_type": "code",
      "source": [
        "# 学習済みモデルを読み込み\n",
        "model_url = 'https://github.com/koichi-inoue/DataScience/raw/main/gender_model.pkl'\n",
        "response = requests.get(model_url)\n",
        "\n",
        "if response.status_code == 200:\n",
        "  model_bytes = BytesIO(response.content)\n",
        "  with open(\"gender_model.pkl\", \"wb\") as f:\n",
        "    f.write(model_bytes.getvalue())\n",
        "  with open(\"gender_model.pkl\", \"rb\") as f:\n",
        "   loaded_model = pickle.load(f)\n",
        "else:\n",
        "  print(f\"エラー: {response.status_code}\")"
      ],
      "metadata": {
        "id": "bSKJIQIl9bQe"
      },
      "execution_count": 2,
      "outputs": []
    },
    {
      "cell_type": "markdown",
      "source": [
        "## データ入力と予測判定\n",
        "以下を実行して、質問に回答してみて下さい。すべて半角英数の 1〜5 で入力して下さい。  \n",
        "あなたが、女性である確率、男性である確率が、表示されます。"
      ],
      "metadata": {
        "id": "OMvE0SLOCMD_"
      }
    },
    {
      "cell_type": "code",
      "source": [
        "# 形式科学（数学・統計学等）に対する関心度  ＞　興味ない 1,2,3,4,5 興味ある\n",
        "x1 = input( \"形式科学（数学・統計学等）に対する関心度：「興味ない〜興味ある」を１〜５で入力してください：\" )\n",
        "x2 = input( \"自然科学（物理・化学・生物等）に対する関心度：「興味ない〜興味ある」を１〜５で入力してください：\" )\n",
        "x3 = input( \"情報科学（コンピュータ・情報処理等）に対する関心度：「興味ない〜興味ある」を１〜５で入力してください：\" )\n",
        "x4 = input( \"３年次以降、研究（探究）したいテーマは定まっていますか：「特にない〜明確に定まっている」を１〜５で入力してください：\" )\n",
        "x5 = input( \"１日あたりの運動（スポーツ・筋トレ等）の時間を教えて下さい：「時間単位で１〜５で入力してください：\" )\n",
        "x6 = input( \"１日あたりの平均睡眠時間を教えて下さい：5時間= 1, 6時間=2, 7時間=3, 8時間=4, 9時間=5 として１〜５で入力してください：\" )\n",
        "\n",
        "sample = pd.DataFrame(data=[[x1,x2,x3,x4,x5,x6]], columns= [['形式科学','自然科学','情報科学','研究テーマ','運動','睡眠']]\n",
        "                      )\n",
        "probability = loaded_model.predict_proba(sample)\n",
        "\n",
        "print('------------ 判定 ------------')\n",
        "print(f\"女性:{probability[0,0] * 100:.2f}%\" )\n",
        "print(f\"男性:{probability[0,1] * 100:.2f}%\" )"
      ],
      "metadata": {
        "colab": {
          "base_uri": "https://localhost:8080/"
        },
        "id": "i7mDQsj76c6P",
        "outputId": "9e9e7da4-2e86-4139-e551-244cdc30e725"
      },
      "execution_count": 3,
      "outputs": [
        {
          "output_type": "stream",
          "name": "stdout",
          "text": [
            "形式科学（数学・統計学等）に対する関心度：「興味ない〜興味ある」を１〜５で入力してください：3\n",
            "自然科学（物理・化学・生物等）に対する関心度：「興味ない〜興味ある」を１〜５で入力してください：5\n",
            "情報科学（コンピュータ・情報処理等）に対する関心度：「興味ない〜興味ある」を１〜５で入力してください：4\n",
            "３年次以降、研究（探究）したいテーマは定まっていますか：「特にない〜明確に定まっている」を１〜５で入力してください：2\n",
            "１日あたりの運動（スポーツ・筋トレ等）の時間を教えて下さい：「時間単位で１〜５で入力してください：1\n",
            "１日あたりの平均睡眠時間を教えて下さい：5時間= 1, 6時間=2, 7時間=3, 8時間=4, 9時間=5 として１〜５で入力してください：2\n",
            "------------ 判定 ------------\n",
            "女性:98.47%\n",
            "男性:1.53%\n"
          ]
        },
        {
          "output_type": "stream",
          "name": "stderr",
          "text": [
            "/usr/local/lib/python3.10/dist-packages/sklearn/base.py:439: UserWarning: X does not have valid feature names, but MLPClassifier was fitted with feature names\n",
            "  warnings.warn(\n"
          ]
        }
      ]
    }
  ]
}