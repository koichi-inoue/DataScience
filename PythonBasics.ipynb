{
  "nbformat": 4,
  "nbformat_minor": 0,
  "metadata": {
    "colab": {
      "provenance": [],
      "authorship_tag": "ABX9TyPMhtEq9n2CHv6RgqBFfHL2"
    },
    "kernelspec": {
      "name": "python3",
      "display_name": "Python 3"
    },
    "language_info": {
      "name": "python"
    }
  },
  "cells": [
    {
      "cell_type": "markdown",
      "source": [
        "#Python Basics\n",
        "プログラミングの基本を確認するためのノート\n"
      ],
      "metadata": {
        "id": "P_bJSISh1V6x"
      }
    },
    {
      "cell_type": "markdown",
      "source": [
        "### 変数の利用１"
      ],
      "metadata": {
        "id": "Q3PNf8PtRIlg"
      }
    },
    {
      "cell_type": "code",
      "execution_count": null,
      "metadata": {
        "colab": {
          "base_uri": "https://localhost:8080/"
        },
        "id": "a65xlVBLzyIa",
        "outputId": "b462eb6d-c960-4a35-d1e8-3c26653472f9"
      },
      "outputs": [
        {
          "output_type": "execute_result",
          "data": {
            "text/plain": [
              "15"
            ]
          },
          "metadata": {},
          "execution_count": 2
        }
      ],
      "source": [
        "a = 5 * 3\n",
        "a\n"
      ]
    },
    {
      "cell_type": "markdown",
      "source": [
        "* １行目：計算結果を変数 a に代入\n",
        "* ２行目：a の値を出力（表示）"
      ],
      "metadata": {
        "id": "-AtW42UXlbPo"
      }
    },
    {
      "cell_type": "markdown",
      "source": [
        "### 変数の利用２"
      ],
      "metadata": {
        "id": "Uta0im3q1u5p"
      }
    },
    {
      "cell_type": "code",
      "source": [
        "b = a * 2\n",
        "b"
      ],
      "metadata": {
        "colab": {
          "base_uri": "https://localhost:8080/"
        },
        "id": "5dao767B293S",
        "outputId": "a5df2585-2a60-40df-cb7b-5edc220297f3"
      },
      "execution_count": null,
      "outputs": [
        {
          "output_type": "execute_result",
          "data": {
            "text/plain": [
              "30"
            ]
          },
          "metadata": {},
          "execution_count": 3
        }
      ]
    },
    {
      "cell_type": "markdown",
      "source": [
        "* 前段階での処理結果（ a の値は 15）は、次の処理でそのまま利用されます。"
      ],
      "metadata": {
        "id": "vuBHUqDfmbax"
      }
    },
    {
      "cell_type": "markdown",
      "source": [
        "### データフレームの利用\n",
        "データフレームの定義と表示"
      ],
      "metadata": {
        "id": "jm-v-GuqjxcO"
      }
    },
    {
      "cell_type": "code",
      "source": [
        "# pandasをインポート\n",
        "import pandas as pd\n",
        "\n",
        "df = pd.DataFrame(\n",
        "     data = [ [ '佐藤', 170, 60 ] , ['田中', 160, 50 ] , [ '鈴木', 165, 58 ] ] ,\n",
        "     index = ['S01', 'S02', 'S03'],\n",
        "     columns =[ 'name' , 'height', 'weight']\n",
        ")\n",
        "df"
      ],
      "metadata": {
        "colab": {
          "base_uri": "https://localhost:8080/",
          "height": 143
        },
        "id": "YcChxTlZj95P",
        "outputId": "2d79f3dc-afa6-430c-99cc-6097192fdf83"
      },
      "execution_count": null,
      "outputs": [
        {
          "output_type": "execute_result",
          "data": {
            "text/plain": [
              "    name  height  weight\n",
              "S01   佐藤     170      60\n",
              "S02   田中     160      50\n",
              "S03   鈴木     165      58"
            ],
            "text/html": [
              "\n",
              "  <div id=\"df-ecc0b9d3-1515-44ec-8d35-f5746a13d4c4\">\n",
              "    <div class=\"colab-df-container\">\n",
              "      <div>\n",
              "<style scoped>\n",
              "    .dataframe tbody tr th:only-of-type {\n",
              "        vertical-align: middle;\n",
              "    }\n",
              "\n",
              "    .dataframe tbody tr th {\n",
              "        vertical-align: top;\n",
              "    }\n",
              "\n",
              "    .dataframe thead th {\n",
              "        text-align: right;\n",
              "    }\n",
              "</style>\n",
              "<table border=\"1\" class=\"dataframe\">\n",
              "  <thead>\n",
              "    <tr style=\"text-align: right;\">\n",
              "      <th></th>\n",
              "      <th>name</th>\n",
              "      <th>height</th>\n",
              "      <th>weight</th>\n",
              "    </tr>\n",
              "  </thead>\n",
              "  <tbody>\n",
              "    <tr>\n",
              "      <th>S01</th>\n",
              "      <td>佐藤</td>\n",
              "      <td>170</td>\n",
              "      <td>60</td>\n",
              "    </tr>\n",
              "    <tr>\n",
              "      <th>S02</th>\n",
              "      <td>田中</td>\n",
              "      <td>160</td>\n",
              "      <td>50</td>\n",
              "    </tr>\n",
              "    <tr>\n",
              "      <th>S03</th>\n",
              "      <td>鈴木</td>\n",
              "      <td>165</td>\n",
              "      <td>58</td>\n",
              "    </tr>\n",
              "  </tbody>\n",
              "</table>\n",
              "</div>\n",
              "      <button class=\"colab-df-convert\" onclick=\"convertToInteractive('df-ecc0b9d3-1515-44ec-8d35-f5746a13d4c4')\"\n",
              "              title=\"Convert this dataframe to an interactive table.\"\n",
              "              style=\"display:none;\">\n",
              "        \n",
              "  <svg xmlns=\"http://www.w3.org/2000/svg\" height=\"24px\"viewBox=\"0 0 24 24\"\n",
              "       width=\"24px\">\n",
              "    <path d=\"M0 0h24v24H0V0z\" fill=\"none\"/>\n",
              "    <path d=\"M18.56 5.44l.94 2.06.94-2.06 2.06-.94-2.06-.94-.94-2.06-.94 2.06-2.06.94zm-11 1L8.5 8.5l.94-2.06 2.06-.94-2.06-.94L8.5 2.5l-.94 2.06-2.06.94zm10 10l.94 2.06.94-2.06 2.06-.94-2.06-.94-.94-2.06-.94 2.06-2.06.94z\"/><path d=\"M17.41 7.96l-1.37-1.37c-.4-.4-.92-.59-1.43-.59-.52 0-1.04.2-1.43.59L10.3 9.45l-7.72 7.72c-.78.78-.78 2.05 0 2.83L4 21.41c.39.39.9.59 1.41.59.51 0 1.02-.2 1.41-.59l7.78-7.78 2.81-2.81c.8-.78.8-2.07 0-2.86zM5.41 20L4 18.59l7.72-7.72 1.47 1.35L5.41 20z\"/>\n",
              "  </svg>\n",
              "      </button>\n",
              "      \n",
              "  <style>\n",
              "    .colab-df-container {\n",
              "      display:flex;\n",
              "      flex-wrap:wrap;\n",
              "      gap: 12px;\n",
              "    }\n",
              "\n",
              "    .colab-df-convert {\n",
              "      background-color: #E8F0FE;\n",
              "      border: none;\n",
              "      border-radius: 50%;\n",
              "      cursor: pointer;\n",
              "      display: none;\n",
              "      fill: #1967D2;\n",
              "      height: 32px;\n",
              "      padding: 0 0 0 0;\n",
              "      width: 32px;\n",
              "    }\n",
              "\n",
              "    .colab-df-convert:hover {\n",
              "      background-color: #E2EBFA;\n",
              "      box-shadow: 0px 1px 2px rgba(60, 64, 67, 0.3), 0px 1px 3px 1px rgba(60, 64, 67, 0.15);\n",
              "      fill: #174EA6;\n",
              "    }\n",
              "\n",
              "    [theme=dark] .colab-df-convert {\n",
              "      background-color: #3B4455;\n",
              "      fill: #D2E3FC;\n",
              "    }\n",
              "\n",
              "    [theme=dark] .colab-df-convert:hover {\n",
              "      background-color: #434B5C;\n",
              "      box-shadow: 0px 1px 3px 1px rgba(0, 0, 0, 0.15);\n",
              "      filter: drop-shadow(0px 1px 2px rgba(0, 0, 0, 0.3));\n",
              "      fill: #FFFFFF;\n",
              "    }\n",
              "  </style>\n",
              "\n",
              "      <script>\n",
              "        const buttonEl =\n",
              "          document.querySelector('#df-ecc0b9d3-1515-44ec-8d35-f5746a13d4c4 button.colab-df-convert');\n",
              "        buttonEl.style.display =\n",
              "          google.colab.kernel.accessAllowed ? 'block' : 'none';\n",
              "\n",
              "        async function convertToInteractive(key) {\n",
              "          const element = document.querySelector('#df-ecc0b9d3-1515-44ec-8d35-f5746a13d4c4');\n",
              "          const dataTable =\n",
              "            await google.colab.kernel.invokeFunction('convertToInteractive',\n",
              "                                                     [key], {});\n",
              "          if (!dataTable) return;\n",
              "\n",
              "          const docLinkHtml = 'Like what you see? Visit the ' +\n",
              "            '<a target=\"_blank\" href=https://colab.research.google.com/notebooks/data_table.ipynb>data table notebook</a>'\n",
              "            + ' to learn more about interactive tables.';\n",
              "          element.innerHTML = '';\n",
              "          dataTable['output_type'] = 'display_data';\n",
              "          await google.colab.output.renderOutput(dataTable, element);\n",
              "          const docLink = document.createElement('div');\n",
              "          docLink.innerHTML = docLinkHtml;\n",
              "          element.appendChild(docLink);\n",
              "        }\n",
              "      </script>\n",
              "    </div>\n",
              "  </div>\n",
              "  "
            ]
          },
          "metadata": {},
          "execution_count": 3
        }
      ]
    },
    {
      "cell_type": "markdown",
      "source": [
        "* 最終行：df と書くことで、データフレームの内容が出力（表示）されます。"
      ],
      "metadata": {
        "id": "A8vfg00xmJdb"
      }
    },
    {
      "cell_type": "markdown",
      "source": [
        "### 関数の利用\n"
      ],
      "metadata": {
        "id": "1L-D8niHWmW4"
      }
    },
    {
      "cell_type": "code",
      "source": [
        "# 自作関数の定義１\n",
        "def myFunc1(a,b):    # ２つの入力データを合計する関数\n",
        "  s = a+b\n",
        "  return s\n",
        "\n",
        "# 自作関数の定義２   #  入力データを２して 1 加える関数（ y = 2x + 1 ）\n",
        "def myFunc(x):  # 入力：引数（ひきすう）として x を受け取る\n",
        "  y = 2*x+1     # 処理\n",
        "  return y      # 出力：戻り値として y を返す\n",
        "\n",
        "#自作関数を利用したメインプログラム\n",
        "a = input(\"数を入力して下さい >>>\")   # 入力\n",
        "b = input(\"数を入力して下さい >>>\")   # 入力\n",
        "x = float(a)\n",
        "y = float(b)\n",
        "goukei = add(x,y)                     # 処理（自作関数１を利用）\n",
        "\n",
        "print(\"計算結果：\", goukei)           # 出力"
      ],
      "metadata": {
        "colab": {
          "base_uri": "https://localhost:8080/"
        },
        "id": "prz4GwH2WotS",
        "outputId": "5a3cad03-06bd-414b-894b-b7c71d59cae9"
      },
      "execution_count": null,
      "outputs": [
        {
          "output_type": "stream",
          "name": "stdout",
          "text": [
            "数を入力して下さい >>>10\n",
            "数を入力して下さい >>>5\n",
            "計算結果： 15.0\n"
          ]
        }
      ]
    },
    {
      "cell_type": "markdown",
      "source": [
        "### CLASS の利用"
      ],
      "metadata": {
        "id": "J5--MxkkZW05"
      }
    },
    {
      "cell_type": "code",
      "source": [
        "# クラスの定義\n",
        "class myClass:\n",
        "\n",
        "    def __init__( self ):           # コンストラクタ\n",
        "        self.a = 0                     # インスタンス変数１\n",
        "        self.b = 0                     # インスタンス変数２\n",
        "\n",
        "    def add( self , a, b ):        # メソッド\n",
        "        self.a = a                     # インスタンス変数１\n",
        "        self.b = b                     # インスタンス変数２\n",
        "        s = self.a + self.b         # 合計を計算\n",
        "        return s\n",
        "\n",
        "# メインプログラム\n",
        "obj1 = myClass()     #初期化\n",
        "obj2 = myClass()     #初期化\n",
        "print(\"初期のインスタンス変数：\", obj1.a , obj1.b,  obj2.a , obj2.b )\n",
        "\n",
        "sum1 = obj1.add( 3 , 5 )    #メソッドの実行\n",
        "sum2 = obj2.add( 7 , 8 )    #メソッドの実行\n",
        "print(\"実行後のインスタンス変数：\", obj1.a , obj1.b,  obj2.a , obj2.b )\n",
        "print(\"実行後の戻り値：\", sum1, sum2 )\n"
      ],
      "metadata": {
        "colab": {
          "base_uri": "https://localhost:8080/"
        },
        "id": "3KrxRfCS26m_",
        "outputId": "83678554-8d15-40c0-825c-e101251e8635"
      },
      "execution_count": null,
      "outputs": [
        {
          "output_type": "stream",
          "name": "stdout",
          "text": [
            "初期のインスタンス変数： 0 0 0 0\n",
            "実行後のインスタンス変数： 3 5 7 8\n",
            "実行後の戻り値： 8 15\n"
          ]
        }
      ]
    }
  ]
}