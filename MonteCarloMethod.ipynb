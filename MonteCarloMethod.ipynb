{
  "nbformat": 4,
  "nbformat_minor": 0,
  "metadata": {
    "colab": {
      "provenance": [],
      "authorship_tag": "ABX9TyMoBa5X2FBJWi0+zFKeViZk"
    },
    "kernelspec": {
      "name": "python3",
      "display_name": "Python 3"
    },
    "language_info": {
      "name": "python"
    }
  },
  "cells": [
    {
      "cell_type": "markdown",
      "source": [
        "# モンテカルロ法による円周率の導出\n"
      ],
      "metadata": {
        "id": "RuyRGE7V9x8X"
      }
    },
    {
      "cell_type": "code",
      "execution_count": null,
      "metadata": {
        "colab": {
          "base_uri": "https://localhost:8080/"
        },
        "id": "Z-iwuSH59o6L",
        "outputId": "014b6a1a-1b63-4778-861e-6a07a482b25a"
      },
      "outputs": [
        {
          "output_type": "stream",
          "name": "stdout",
          "text": [
            "Num： 1000000\n",
            "IN： 785380\n",
            "OUT： 214620\n",
            "Pi： 3.14152\n"
          ]
        }
      ],
      "source": [
        "# ライブラリの読み込み\n",
        "import math\n",
        "import random \n",
        "\n",
        "# 初期化\n",
        "n = 1000000  # 極端に大きくすると Googleに負担をかけるので、ほどほどに・・\n",
        "cnt_in = 0\n",
        "cnt_out = 0\n",
        "\n",
        "# シミュレーション\n",
        "for i in range(n):\n",
        "  # 0.0 - 1.0 のランダムな「雨粒」\n",
        "  x = random.random()\n",
        "  y = random.random()\n",
        "  # 4分円の中に落ちた数をカウント\n",
        "  r = math.sqrt(x**2 + y**2)\n",
        "  if r <= 1.0:\n",
        "      cnt_in += 1\n",
        "  else:\n",
        "      cnt_out += 1\n",
        "\n",
        "# 円周率の近似値\n",
        "Pi = cnt_in / n * 4 \n",
        "\n",
        "# 結果の表示\n",
        "print(\"Num：\", n)\n",
        "print(\"IN：\", cnt_in)\n",
        "print(\"OUT：\", cnt_out)\n",
        "print(\"Pi：\", Pi)\n"
      ]
    }
  ]
}